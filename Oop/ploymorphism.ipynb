{
 "cells": [
  {
   "cell_type": "markdown",
   "metadata": {},
   "source": [
    "# Polymorphism\n",
    "- Polymorphism means having many form.\n",
    "- Polymorphism means the same function name (but different signatures) being used for different types.\n",
    "- The key different is the data types and number of agument used in function."
   ]
  },
  {
   "cell_type": "code",
   "execution_count": 3,
   "metadata": {},
   "outputs": [
    {
     "name": "stdout",
     "output_type": "stream",
     "text": [
      "5\n",
      "6\n"
     ]
    }
   ],
   "source": [
    "print(len('hello'))\n",
    "print(len([1, 3, 'a', 7, 'j', 'd']))"
   ]
  },
  {
   "cell_type": "code",
   "execution_count": 5,
   "metadata": {},
   "outputs": [
    {
     "name": "stdout",
     "output_type": "stream",
     "text": [
      "3\n",
      "13\n"
     ]
    }
   ],
   "source": [
    "def add(x, y, z=0):\n",
    "    return x+y+z \n",
    "print(add(1,2))\n",
    "print(add(2, 5, 6))"
   ]
  },
  {
   "cell_type": "code",
   "execution_count": 11,
   "metadata": {},
   "outputs": [
    {
     "ename": "TypeError",
     "evalue": "'str' object is not callable",
     "output_type": "error",
     "traceback": [
      "\u001b[1;31m---------------------------------------------------------------------------\u001b[0m",
      "\u001b[1;31mTypeError\u001b[0m                                 Traceback (most recent call last)",
      "Cell \u001b[1;32mIn[11], line 30\u001b[0m\n\u001b[0;32m     28\u001b[0m obj2 \u001b[38;5;241m=\u001b[39m Pakistan(\u001b[38;5;124m'\u001b[39m\u001b[38;5;124mIslamabad\u001b[39m\u001b[38;5;124m'\u001b[39m, \u001b[38;5;124m'\u001b[39m\u001b[38;5;124mUrdu\u001b[39m\u001b[38;5;124m'\u001b[39m, \u001b[38;5;124m'\u001b[39m\u001b[38;5;124mDeveloping\u001b[39m\u001b[38;5;124m'\u001b[39m)\n\u001b[0;32m     29\u001b[0m \u001b[38;5;28;01mfor\u001b[39;00m c \u001b[38;5;129;01min\u001b[39;00m [obj1, obj2]:\n\u001b[1;32m---> 30\u001b[0m     \u001b[43mc\u001b[49m\u001b[38;5;241;43m.\u001b[39;49m\u001b[43mcapital\u001b[49m\u001b[43m(\u001b[49m\u001b[43m)\u001b[49m\n\u001b[0;32m     31\u001b[0m     c\u001b[38;5;241m.\u001b[39mlanguage()\n\u001b[0;32m     32\u001b[0m     c\u001b[38;5;241m.\u001b[39mtype()\n",
      "\u001b[1;31mTypeError\u001b[0m: 'str' object is not callable"
     ]
    }
   ],
   "source": [
    "class Usa:\n",
    "\n",
    "    def __init__(self, capital, language, ntype):\n",
    "        self.capital = capital\n",
    "        self.language = language\n",
    "        self.ntype = ntype\n",
    "\n",
    "\n",
    "    def capital(self):\n",
    "        return self.capital\n",
    "    def language(self):\n",
    "        return self.language\n",
    "    def type(self):\n",
    "        return self.ntype\n",
    "class Pakistan:\n",
    "    def __init__(self, capital, language, ntype):\n",
    "        self.capital = capital\n",
    "        self.language = language\n",
    "        self.ntype = ntype\n",
    "    def capital(self):\n",
    "        reself.capital\n",
    "    def language(self):\n",
    "\n",
    "        print(self.language)\n",
    "    def type(self):\n",
    "        print(self.ntype)\n",
    "obj1 = Usa('Washiton D.C', 'English', 'Developed')\n",
    "obj2 = Pakistan('Islamabad', 'Urdu', 'Developing')\n",
    "for c in [obj1, obj2]:\n",
    "    c.capital()\n",
    "    c.language()\n",
    "    c.type()\n"
   ]
  },
  {
   "cell_type": "markdown",
   "metadata": {},
   "source": []
  },
  {
   "cell_type": "code",
   "execution_count": null,
   "metadata": {},
   "outputs": [],
   "source": []
  }
 ],
 "metadata": {
  "kernelspec": {
   "display_name": "my_vir",
   "language": "python",
   "name": "python3"
  },
  "language_info": {
   "codemirror_mode": {
    "name": "ipython",
    "version": 3
   },
   "file_extension": ".py",
   "mimetype": "text/x-python",
   "name": "python",
   "nbconvert_exporter": "python",
   "pygments_lexer": "ipython3",
   "version": "3.12.3"
  }
 },
 "nbformat": 4,
 "nbformat_minor": 2
}
